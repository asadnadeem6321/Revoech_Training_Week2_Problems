{
 "cells": [
  {
   "cell_type": "code",
   "execution_count": 10,
   "id": "db59fe10-2e7d-4007-80b4-c550e45331f5",
   "metadata": {},
   "outputs": [],
   "source": [
    "import random as rd"
   ]
  },
  {
   "cell_type": "code",
   "execution_count": 11,
   "id": "7c5ab88e-457c-426f-a717-6feb349c2897",
   "metadata": {},
   "outputs": [],
   "source": [
    "import string as st"
   ]
  },
  {
   "cell_type": "code",
   "execution_count": 12,
   "id": "3c1e18cf-7c29-4efe-be46-e31e894904b2",
   "metadata": {},
   "outputs": [],
   "source": [
    "lower_case = st.ascii_lowercase\n",
    "upper_case = st.ascii_uppercase\n",
    "digits = st.digits\n",
    "punctuation = st.punctuation"
   ]
  },
  {
   "cell_type": "code",
   "execution_count": 37,
   "id": "a538006b-8fcf-4cee-8921-7cd1af0673f3",
   "metadata": {},
   "outputs": [
    {
     "name": "stdin",
     "output_type": "stream",
     "text": [
      "Do you want to include lowercase letters in your password: y/n  y\n",
      "Do you want to include uppercase letters in your password: y/n  y\n",
      "Do you want to include digits in your password: y/n  y\n",
      "Do you want to include special characters in your password: y/n  y\n",
      "What's the length of your password: 5,10,15 etc  10\n"
     ]
    }
   ],
   "source": [
    "use_lowercase = input(\"Do you want to include lowercase letters in your password: y/n \").lower() == 'y'\n",
    "use_uppercase = input(\"Do you want to include uppercase letters in your password: y/n \").lower() == 'y'\n",
    "use_digits = input(\"Do you want to include digits in your password: y/n \").lower() == 'y'\n",
    "use_punctuation = input(\"Do you want to include special characters in your password: y/n \").lower() == 'y'\n",
    "length_num = int(input(\"What's the length of your password: 5,10,15 etc \"))"
   ]
  },
  {
   "cell_type": "code",
   "execution_count": 38,
   "id": "5efa0b6d-6e6a-4e7c-9d56-c7d5d53cf478",
   "metadata": {},
   "outputs": [],
   "source": [
    "pool = ''\n",
    "if use_lowercase:\n",
    "    pool += lower_case\n",
    "if use_uppercase:\n",
    "    pool += upper_case\n",
    "if use_digits:\n",
    "    pool += digits\n",
    "if use_punctuation:\n",
    "    pool += punctuation    "
   ]
  },
  {
   "cell_type": "code",
   "execution_count": 39,
   "id": "a6f38feb-1ccc-4ad5-a330-ecfe4d8fdbea",
   "metadata": {},
   "outputs": [],
   "source": [
    "password = ''.join(rd.choices(pool , k=length_num))"
   ]
  },
  {
   "cell_type": "code",
   "execution_count": 40,
   "id": "b1389332-689c-420e-baac-5d9ac70caf2a",
   "metadata": {},
   "outputs": [
    {
     "name": "stdout",
     "output_type": "stream",
     "text": [
      "js?#n_7\\{)\n"
     ]
    }
   ],
   "source": [
    "print(password)"
   ]
  },
  {
   "cell_type": "code",
   "execution_count": 58,
   "id": "db177098-39d2-4d5e-9e41-36d23f856d2b",
   "metadata": {},
   "outputs": [
    {
     "name": "stdin",
     "output_type": "stream",
     "text": [
      "What's the length of your password:  12\n"
     ]
    }
   ],
   "source": [
    "length = int(input(\"What's the length of your password: \"))"
   ]
  },
  {
   "cell_type": "code",
   "execution_count": 60,
   "id": "bcf612f2-7546-447c-a608-4b336830800b",
   "metadata": {},
   "outputs": [],
   "source": [
    "special_chars = '><+-{}:.&;'\n",
    "digits = '0123456789'\n",
    "upper_case = 'ABCDEFGHIJKLMNOPQRSTUVWXYZ'\n",
    "lower_case = 'abcdefghijklmnopqrstuvwxyz'"
   ]
  },
  {
   "cell_type": "code",
   "execution_count": 61,
   "id": "13d8a120-518a-4a79-9e40-833d713a2656",
   "metadata": {},
   "outputs": [],
   "source": [
    "password = [\n",
    "    rd.choice(special_chars),\n",
    "    rd.choice(digits),\n",
    "    rd.choice(upper_case),\n",
    "    rd.choice(lower_case)\n",
    "]"
   ]
  },
  {
   "cell_type": "code",
   "execution_count": 62,
   "id": "e3d5f335-6c28-4661-8353-779cee233915",
   "metadata": {},
   "outputs": [],
   "source": [
    "all_chars = special_chars + digits + upper_case + lower_case\n",
    "remaining_length = length - 4"
   ]
  },
  {
   "cell_type": "code",
   "execution_count": 63,
   "id": "cf5405f3-041f-4552-9ff7-8027d7d25efe",
   "metadata": {},
   "outputs": [],
   "source": [
    "password += [rd.choice(all_chars) for _ in range(remaining_length)]"
   ]
  },
  {
   "cell_type": "code",
   "execution_count": 64,
   "id": "f85c7f10-4298-4085-842a-0d53dc7e5cca",
   "metadata": {},
   "outputs": [],
   "source": [
    "rd.shuffle(password)"
   ]
  },
  {
   "cell_type": "code",
   "execution_count": 65,
   "id": "e16979e2-b643-401b-a66d-67103e0aebd5",
   "metadata": {},
   "outputs": [
    {
     "data": {
      "text/plain": [
       "';T6G-PGQAlvN'"
      ]
     },
     "execution_count": 65,
     "metadata": {},
     "output_type": "execute_result"
    }
   ],
   "source": [
    "''.join(password)"
   ]
  },
  {
   "cell_type": "code",
   "execution_count": null,
   "id": "535f361f-80bb-4897-a3db-b5fe4ac57e7a",
   "metadata": {},
   "outputs": [],
   "source": []
  }
 ],
 "metadata": {
  "kernelspec": {
   "display_name": "Python 3 (ipykernel)",
   "language": "python",
   "name": "python3"
  },
  "language_info": {
   "codemirror_mode": {
    "name": "ipython",
    "version": 3
   },
   "file_extension": ".py",
   "mimetype": "text/x-python",
   "name": "python",
   "nbconvert_exporter": "python",
   "pygments_lexer": "ipython3",
   "version": "3.10.12"
  }
 },
 "nbformat": 4,
 "nbformat_minor": 5
}
