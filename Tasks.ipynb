{
 "cells": [
  {
   "cell_type": "code",
   "execution_count": 8,
   "id": "3b8ca282-a4dc-472e-9dd1-ca0e05f8cda6",
   "metadata": {},
   "outputs": [],
   "source": [
    "from pathlib import Path"
   ]
  },
  {
   "cell_type": "code",
   "execution_count": 9,
   "id": "df10ec69-3d6a-4bb1-a851-69c58a948be8",
   "metadata": {},
   "outputs": [],
   "source": [
    "Lahore_weather = Path(\"/Home/Downloads/Revoech_Training/Weatherman_Problems/lahore_weather\")"
   ]
  },
  {
   "cell_type": "code",
   "execution_count": 10,
   "id": "f93f6c92-d2d1-4e96-912d-44d9b841996d",
   "metadata": {},
   "outputs": [],
   "source": [
    "txt_files = Lahore_weather.glob(\"*.txt\")"
   ]
  },
  {
   "cell_type": "code",
   "execution_count": 12,
   "id": "1a4f8da5-1bf3-4672-b4aa-4acd950db68d",
   "metadata": {},
   "outputs": [],
   "source": [
    "Murree_weather = Path(\"/Home/Downloads/Revoech_Training/Weatherman_Problems/Murree_weather\")"
   ]
  },
  {
   "cell_type": "code",
   "execution_count": 13,
   "id": "3ba0a515-9a7a-4c16-8062-a101baa49729",
   "metadata": {},
   "outputs": [],
   "source": [
    "txt_files2 = Murree_weather.glob(\"*.txt\")"
   ]
  },
  {
   "cell_type": "code",
   "execution_count": 14,
   "id": "91c38380-5923-42a6-a4e3-694597d4f558",
   "metadata": {},
   "outputs": [],
   "source": [
    "Dubai_weather = Path(\"/Home/Downloads/Revoech_Training/Weatherman_Problems/Dubai_weather\")"
   ]
  },
  {
   "cell_type": "code",
   "execution_count": 15,
   "id": "d8f9b66f-037e-4960-801f-41f6bddf438a",
   "metadata": {},
   "outputs": [],
   "source": [
    "txt_files3 = Dubai_weather.glob(\"*.txt\")"
   ]
  },
  {
   "cell_type": "code",
   "execution_count": 64,
   "id": "2bf756ce-3d35-462c-9ba4-46a8d80ad143",
   "metadata": {},
   "outputs": [
    {
     "ename": "NameError",
     "evalue": "name 'parse_weather_folder' is not defined",
     "output_type": "error",
     "traceback": [
      "\u001b[0;31m---------------------------------------------------------------------------\u001b[0m",
      "\u001b[0;31mNameError\u001b[0m                                 Traceback (most recent call last)",
      "Cell \u001b[0;32mIn[64], line 7\u001b[0m\n\u001b[1;32m      4\u001b[0m Murree_weather \u001b[38;5;241m=\u001b[39m Path(\u001b[38;5;124m\"\u001b[39m\u001b[38;5;124m/Home/Downloads/Revoech_Training/Weatherman_Problems/Murree_weather\u001b[39m\u001b[38;5;124m\"\u001b[39m)\n\u001b[1;32m      5\u001b[0m Dubai_weather \u001b[38;5;241m=\u001b[39m Path(\u001b[38;5;124m\"\u001b[39m\u001b[38;5;124m/Home/Downloads/Revoech_Training/Weatherman_Problems/Dubai_weather\u001b[39m\u001b[38;5;124m\"\u001b[39m)\n\u001b[0;32m----> 7\u001b[0m lahore_data \u001b[38;5;241m=\u001b[39m \u001b[43mparse_weather_folder\u001b[49m(Lahore_weather)\n\u001b[1;32m      8\u001b[0m murree_data \u001b[38;5;241m=\u001b[39m parse_weather_folder(Murree_weather)\n\u001b[1;32m      9\u001b[0m dubai_data \u001b[38;5;241m=\u001b[39m parse_weather_folder(Dubai_weather)\n",
      "\u001b[0;31mNameError\u001b[0m: name 'parse_weather_folder' is not defined"
     ]
    }
   ],
   "source": [
    "from pathlib import Path\n",
    "\n",
    "Lahore_weather = Path(\"/Home/Downloads/Revoech_Training/Weatherman_Problems/lahore_weather\")\n",
    "Murree_weather = Path(\"/Home/Downloads/Revoech_Training/Weatherman_Problems/Murree_weather\")\n",
    "Dubai_weather = Path(\"/Home/Downloads/Revoech_Training/Weatherman_Problems/Dubai_weather\")\n",
    "\n",
    "lahore_data = parse_weather_folder(Lahore_weather)\n",
    "murree_data = parse_weather_folder(Murree_weather)\n",
    "dubai_data = parse_weather_folder(Dubai_weather)\n",
    "\n",
    "All_files = lahore_data + murree_data + dubai_data"
   ]
  },
  {
   "cell_type": "code",
   "execution_count": 55,
   "id": "739b73f0-c606-45b4-b6d1-c98c5f9fee67",
   "metadata": {},
   "outputs": [],
   "source": []
  },
  {
   "cell_type": "code",
   "execution_count": 60,
   "id": "01a453b4-ebc0-4a6e-baa8-4dc0c161bf38",
   "metadata": {},
   "outputs": [
    {
     "name": "stdout",
     "output_type": "stream",
     "text": [
      "Headers detected: ['PKT', 'Max TemperatureC', 'Mean TemperatureC', 'Min TemperatureC', 'Dew PointC', 'MeanDew PointC', 'Min DewpointC', 'Max Humidity', ' Mean Humidity', ' Min Humidity', ' Max Sea Level PressurehPa', ' Mean Sea Level PressurehPa', ' Min Sea Level PressurehPa', ' Max VisibilityKm', ' Mean VisibilityKm', ' Min VisibilitykM', ' Max Wind SpeedKm/h', ' Mean Wind SpeedKm/h', ' Max Gust SpeedKm/h', 'PrecipitationCm', ' CloudCover', ' Events', 'WindDirDegrees']\n",
      "Row: {'PKT': '1996-12-1', 'Max TemperatureC': '', 'Mean TemperatureC': '', 'Min TemperatureC': '', 'Dew PointC': '', 'MeanDew PointC': '', 'Min DewpointC': '', 'Max Humidity': '', ' Mean Humidity': '', ' Min Humidity': '', ' Max Sea Level PressurehPa': '', ' Mean Sea Level PressurehPa': '', ' Min Sea Level PressurehPa': '', ' Max VisibilityKm': '', ' Mean VisibilityKm': '', ' Min VisibilitykM': '', ' Max Wind SpeedKm/h': '', ' Mean Wind SpeedKm/h': '', ' Max Gust SpeedKm/h': '', 'PrecipitationCm': '', ' CloudCover': '', ' Events': '', 'WindDirDegrees': ''}\n",
      "Skipping row due to error: invalid literal for int() with base 10: ''\n",
      "Row: {'PKT': '1996-12-2', 'Max TemperatureC': '', 'Mean TemperatureC': '', 'Min TemperatureC': '', 'Dew PointC': '', 'MeanDew PointC': '', 'Min DewpointC': '', 'Max Humidity': '', ' Mean Humidity': '', ' Min Humidity': '', ' Max Sea Level PressurehPa': '', ' Mean Sea Level PressurehPa': '', ' Min Sea Level PressurehPa': '', ' Max VisibilityKm': '', ' Mean VisibilityKm': '', ' Min VisibilitykM': '', ' Max Wind SpeedKm/h': '', ' Mean Wind SpeedKm/h': '', ' Max Gust SpeedKm/h': '', 'PrecipitationCm': '', ' CloudCover': '', ' Events': '', 'WindDirDegrees': ''}\n",
      "Skipping row due to error: invalid literal for int() with base 10: ''\n",
      "Row: {'PKT': '1996-12-3', 'Max TemperatureC': '', 'Mean TemperatureC': '', 'Min TemperatureC': '', 'Dew PointC': '', 'MeanDew PointC': '', 'Min DewpointC': '', 'Max Humidity': '', ' Mean Humidity': '', ' Min Humidity': '', ' Max Sea Level PressurehPa': '', ' Mean Sea Level PressurehPa': '', ' Min Sea Level PressurehPa': '', ' Max VisibilityKm': '', ' Mean VisibilityKm': '', ' Min VisibilitykM': '', ' Max Wind SpeedKm/h': '', ' Mean Wind SpeedKm/h': '', ' Max Gust SpeedKm/h': '', 'PrecipitationCm': '', ' CloudCover': '', ' Events': '', 'WindDirDegrees': ''}\n",
      "Skipping row due to error: invalid literal for int() with base 10: ''\n",
      "Row: {'PKT': '1996-12-4', 'Max TemperatureC': '', 'Mean TemperatureC': '', 'Min TemperatureC': '', 'Dew PointC': '', 'MeanDew PointC': '', 'Min DewpointC': '', 'Max Humidity': '', ' Mean Humidity': '', ' Min Humidity': '', ' Max Sea Level PressurehPa': '', ' Mean Sea Level PressurehPa': '', ' Min Sea Level PressurehPa': '', ' Max VisibilityKm': '', ' Mean VisibilityKm': '', ' Min VisibilitykM': '', ' Max Wind SpeedKm/h': '', ' Mean Wind SpeedKm/h': '', ' Max Gust SpeedKm/h': '', 'PrecipitationCm': '', ' CloudCover': '', ' Events': '', 'WindDirDegrees': ''}\n",
      "Skipping row due to error: invalid literal for int() with base 10: ''\n",
      "Row: {'PKT': '1996-12-5', 'Max TemperatureC': '', 'Mean TemperatureC': '', 'Min TemperatureC': '', 'Dew PointC': '', 'MeanDew PointC': '', 'Min DewpointC': '', 'Max Humidity': '', ' Mean Humidity': '', ' Min Humidity': '', ' Max Sea Level PressurehPa': '', ' Mean Sea Level PressurehPa': '', ' Min Sea Level PressurehPa': '', ' Max VisibilityKm': '', ' Mean VisibilityKm': '', ' Min VisibilitykM': '', ' Max Wind SpeedKm/h': '', ' Mean Wind SpeedKm/h': '', ' Max Gust SpeedKm/h': '', 'PrecipitationCm': '', ' CloudCover': '', ' Events': '', 'WindDirDegrees': ''}\n",
      "Skipping row due to error: invalid literal for int() with base 10: ''\n",
      "Row: {'PKT': '1996-12-6', 'Max TemperatureC': '', 'Mean TemperatureC': '', 'Min TemperatureC': '', 'Dew PointC': '', 'MeanDew PointC': '', 'Min DewpointC': '', 'Max Humidity': '', ' Mean Humidity': '', ' Min Humidity': '', ' Max Sea Level PressurehPa': '', ' Mean Sea Level PressurehPa': '', ' Min Sea Level PressurehPa': '', ' Max VisibilityKm': '', ' Mean VisibilityKm': '', ' Min VisibilitykM': '', ' Max Wind SpeedKm/h': '', ' Mean Wind SpeedKm/h': '', ' Max Gust SpeedKm/h': '', 'PrecipitationCm': '', ' CloudCover': '', ' Events': '', 'WindDirDegrees': ''}\n",
      "Skipping row due to error: invalid literal for int() with base 10: ''\n",
      "Row: {'PKT': '1996-12-7', 'Max TemperatureC': '', 'Mean TemperatureC': '', 'Min TemperatureC': '', 'Dew PointC': '', 'MeanDew PointC': '', 'Min DewpointC': '', 'Max Humidity': '', ' Mean Humidity': '', ' Min Humidity': '', ' Max Sea Level PressurehPa': '', ' Mean Sea Level PressurehPa': '', ' Min Sea Level PressurehPa': '', ' Max VisibilityKm': '', ' Mean VisibilityKm': '', ' Min VisibilitykM': '', ' Max Wind SpeedKm/h': '', ' Mean Wind SpeedKm/h': '', ' Max Gust SpeedKm/h': '', 'PrecipitationCm': '', ' CloudCover': '', ' Events': '', 'WindDirDegrees': ''}\n",
      "Skipping row due to error: invalid literal for int() with base 10: ''\n",
      "Row: {'PKT': '1996-12-8', 'Max TemperatureC': '', 'Mean TemperatureC': '', 'Min TemperatureC': '', 'Dew PointC': '', 'MeanDew PointC': '', 'Min DewpointC': '', 'Max Humidity': '', ' Mean Humidity': '', ' Min Humidity': '', ' Max Sea Level PressurehPa': '', ' Mean Sea Level PressurehPa': '', ' Min Sea Level PressurehPa': '', ' Max VisibilityKm': '', ' Mean VisibilityKm': '', ' Min VisibilitykM': '', ' Max Wind SpeedKm/h': '', ' Mean Wind SpeedKm/h': '', ' Max Gust SpeedKm/h': '', 'PrecipitationCm': '', ' CloudCover': '', ' Events': '', 'WindDirDegrees': ''}\n",
      "Skipping row due to error: invalid literal for int() with base 10: ''\n",
      "Row: {'PKT': '1996-12-9', 'Max TemperatureC': '', 'Mean TemperatureC': '', 'Min TemperatureC': '', 'Dew PointC': '', 'MeanDew PointC': '', 'Min DewpointC': '', 'Max Humidity': '', ' Mean Humidity': '', ' Min Humidity': '', ' Max Sea Level PressurehPa': '', ' Mean Sea Level PressurehPa': '', ' Min Sea Level PressurehPa': '', ' Max VisibilityKm': '', ' Mean VisibilityKm': '', ' Min VisibilitykM': '', ' Max Wind SpeedKm/h': '', ' Mean Wind SpeedKm/h': '', ' Max Gust SpeedKm/h': '', 'PrecipitationCm': '', ' CloudCover': '', ' Events': '', 'WindDirDegrees': ''}\n",
      "Skipping row due to error: invalid literal for int() with base 10: ''\n",
      "Row: {'PKT': '1996-12-10', 'Max TemperatureC': '', 'Mean TemperatureC': '', 'Min TemperatureC': '', 'Dew PointC': '', 'MeanDew PointC': '', 'Min DewpointC': '', 'Max Humidity': '', ' Mean Humidity': '', ' Min Humidity': '', ' Max Sea Level PressurehPa': '', ' Mean Sea Level PressurehPa': '', ' Min Sea Level PressurehPa': '', ' Max VisibilityKm': '', ' Mean VisibilityKm': '', ' Min VisibilitykM': '', ' Max Wind SpeedKm/h': '', ' Mean Wind SpeedKm/h': '', ' Max Gust SpeedKm/h': '', 'PrecipitationCm': '', ' CloudCover': '', ' Events': '', 'WindDirDegrees': ''}\n",
      "Skipping row due to error: invalid literal for int() with base 10: ''\n",
      "Row: {'PKT': '1996-12-11', 'Max TemperatureC': '', 'Mean TemperatureC': '', 'Min TemperatureC': '', 'Dew PointC': '', 'MeanDew PointC': '', 'Min DewpointC': '', 'Max Humidity': '', ' Mean Humidity': '', ' Min Humidity': '', ' Max Sea Level PressurehPa': '', ' Mean Sea Level PressurehPa': '', ' Min Sea Level PressurehPa': '', ' Max VisibilityKm': '', ' Mean VisibilityKm': '', ' Min VisibilitykM': '', ' Max Wind SpeedKm/h': '', ' Mean Wind SpeedKm/h': '', ' Max Gust SpeedKm/h': '', 'PrecipitationCm': '', ' CloudCover': '', ' Events': '', 'WindDirDegrees': ''}\n",
      "Skipping row due to error: invalid literal for int() with base 10: ''\n",
      "Row: {'PKT': '1996-12-12', 'Max TemperatureC': '', 'Mean TemperatureC': '', 'Min TemperatureC': '', 'Dew PointC': '', 'MeanDew PointC': '', 'Min DewpointC': '', 'Max Humidity': '', ' Mean Humidity': '', ' Min Humidity': '', ' Max Sea Level PressurehPa': '', ' Mean Sea Level PressurehPa': '', ' Min Sea Level PressurehPa': '', ' Max VisibilityKm': '', ' Mean VisibilityKm': '', ' Min VisibilitykM': '', ' Max Wind SpeedKm/h': '', ' Mean Wind SpeedKm/h': '', ' Max Gust SpeedKm/h': '', 'PrecipitationCm': '', ' CloudCover': '', ' Events': '', 'WindDirDegrees': ''}\n",
      "Skipping row due to error: invalid literal for int() with base 10: ''\n",
      "Row: {'PKT': '1996-12-13', 'Max TemperatureC': '', 'Mean TemperatureC': '', 'Min TemperatureC': '', 'Dew PointC': '', 'MeanDew PointC': '', 'Min DewpointC': '', 'Max Humidity': '', ' Mean Humidity': '', ' Min Humidity': '', ' Max Sea Level PressurehPa': '', ' Mean Sea Level PressurehPa': '', ' Min Sea Level PressurehPa': '', ' Max VisibilityKm': '', ' Mean VisibilityKm': '', ' Min VisibilitykM': '', ' Max Wind SpeedKm/h': '', ' Mean Wind SpeedKm/h': '', ' Max Gust SpeedKm/h': '', 'PrecipitationCm': '', ' CloudCover': '', ' Events': '', 'WindDirDegrees': ''}\n",
      "Skipping row due to error: invalid literal for int() with base 10: ''\n",
      "Row: {'PKT': '1996-12-14', 'Max TemperatureC': '', 'Mean TemperatureC': '', 'Min TemperatureC': '', 'Dew PointC': '', 'MeanDew PointC': '', 'Min DewpointC': '', 'Max Humidity': '', ' Mean Humidity': '', ' Min Humidity': '', ' Max Sea Level PressurehPa': '', ' Mean Sea Level PressurehPa': '', ' Min Sea Level PressurehPa': '', ' Max VisibilityKm': '', ' Mean VisibilityKm': '', ' Min VisibilitykM': '', ' Max Wind SpeedKm/h': '', ' Mean Wind SpeedKm/h': '', ' Max Gust SpeedKm/h': '', 'PrecipitationCm': '', ' CloudCover': '', ' Events': '', 'WindDirDegrees': ''}\n",
      "Skipping row due to error: invalid literal for int() with base 10: ''\n",
      "Row: {'PKT': '1996-12-15', 'Max TemperatureC': '', 'Mean TemperatureC': '', 'Min TemperatureC': '', 'Dew PointC': '', 'MeanDew PointC': '', 'Min DewpointC': '', 'Max Humidity': '', ' Mean Humidity': '', ' Min Humidity': '', ' Max Sea Level PressurehPa': '', ' Mean Sea Level PressurehPa': '', ' Min Sea Level PressurehPa': '', ' Max VisibilityKm': '', ' Mean VisibilityKm': '', ' Min VisibilitykM': '', ' Max Wind SpeedKm/h': '', ' Mean Wind SpeedKm/h': '', ' Max Gust SpeedKm/h': '', 'PrecipitationCm': '', ' CloudCover': '', ' Events': '', 'WindDirDegrees': ''}\n",
      "Skipping row due to error: invalid literal for int() with base 10: ''\n",
      "Row: {'PKT': '1996-12-16', 'Max TemperatureC': '', 'Mean TemperatureC': '', 'Min TemperatureC': '', 'Dew PointC': '', 'MeanDew PointC': '', 'Min DewpointC': '', 'Max Humidity': '', ' Mean Humidity': '', ' Min Humidity': '', ' Max Sea Level PressurehPa': '', ' Mean Sea Level PressurehPa': '', ' Min Sea Level PressurehPa': '', ' Max VisibilityKm': '', ' Mean VisibilityKm': '', ' Min VisibilitykM': '', ' Max Wind SpeedKm/h': '', ' Mean Wind SpeedKm/h': '', ' Max Gust SpeedKm/h': '', 'PrecipitationCm': '', ' CloudCover': '', ' Events': '', 'WindDirDegrees': ''}\n",
      "Skipping row due to error: invalid literal for int() with base 10: ''\n",
      "Row: {'PKT': '1996-12-17', 'Max TemperatureC': '', 'Mean TemperatureC': '', 'Min TemperatureC': '', 'Dew PointC': '', 'MeanDew PointC': '', 'Min DewpointC': '', 'Max Humidity': '', ' Mean Humidity': '', ' Min Humidity': '', ' Max Sea Level PressurehPa': '', ' Mean Sea Level PressurehPa': '', ' Min Sea Level PressurehPa': '', ' Max VisibilityKm': '', ' Mean VisibilityKm': '', ' Min VisibilitykM': '', ' Max Wind SpeedKm/h': '', ' Mean Wind SpeedKm/h': '', ' Max Gust SpeedKm/h': '', 'PrecipitationCm': '', ' CloudCover': '', ' Events': '', 'WindDirDegrees': ''}\n",
      "Skipping row due to error: invalid literal for int() with base 10: ''\n",
      "Row: {'PKT': '1996-12-18', 'Max TemperatureC': '', 'Mean TemperatureC': '', 'Min TemperatureC': '', 'Dew PointC': '', 'MeanDew PointC': '', 'Min DewpointC': '', 'Max Humidity': '', ' Mean Humidity': '', ' Min Humidity': '', ' Max Sea Level PressurehPa': '', ' Mean Sea Level PressurehPa': '', ' Min Sea Level PressurehPa': '', ' Max VisibilityKm': '', ' Mean VisibilityKm': '', ' Min VisibilitykM': '', ' Max Wind SpeedKm/h': '', ' Mean Wind SpeedKm/h': '', ' Max Gust SpeedKm/h': '', 'PrecipitationCm': '', ' CloudCover': '', ' Events': '', 'WindDirDegrees': ''}\n",
      "Skipping row due to error: invalid literal for int() with base 10: ''\n",
      "Row: {'PKT': '1996-12-19', 'Max TemperatureC': '', 'Mean TemperatureC': '', 'Min TemperatureC': '', 'Dew PointC': '', 'MeanDew PointC': '', 'Min DewpointC': '', 'Max Humidity': '', ' Mean Humidity': '', ' Min Humidity': '', ' Max Sea Level PressurehPa': '', ' Mean Sea Level PressurehPa': '', ' Min Sea Level PressurehPa': '', ' Max VisibilityKm': '', ' Mean VisibilityKm': '', ' Min VisibilitykM': '', ' Max Wind SpeedKm/h': '', ' Mean Wind SpeedKm/h': '', ' Max Gust SpeedKm/h': '', 'PrecipitationCm': '', ' CloudCover': '', ' Events': '', 'WindDirDegrees': ''}\n",
      "Skipping row due to error: invalid literal for int() with base 10: ''\n",
      "Row: {'PKT': '1996-12-20', 'Max TemperatureC': '', 'Mean TemperatureC': '', 'Min TemperatureC': '', 'Dew PointC': '', 'MeanDew PointC': '', 'Min DewpointC': '', 'Max Humidity': '', ' Mean Humidity': '', ' Min Humidity': '', ' Max Sea Level PressurehPa': '', ' Mean Sea Level PressurehPa': '', ' Min Sea Level PressurehPa': '', ' Max VisibilityKm': '', ' Mean VisibilityKm': '', ' Min VisibilitykM': '', ' Max Wind SpeedKm/h': '', ' Mean Wind SpeedKm/h': '', ' Max Gust SpeedKm/h': '', 'PrecipitationCm': '', ' CloudCover': '', ' Events': '', 'WindDirDegrees': ''}\n",
      "Skipping row due to error: invalid literal for int() with base 10: ''\n",
      "Row: {'PKT': '1996-12-21', 'Max TemperatureC': '', 'Mean TemperatureC': '', 'Min TemperatureC': '', 'Dew PointC': '', 'MeanDew PointC': '', 'Min DewpointC': '', 'Max Humidity': '', ' Mean Humidity': '', ' Min Humidity': '', ' Max Sea Level PressurehPa': '', ' Mean Sea Level PressurehPa': '', ' Min Sea Level PressurehPa': '', ' Max VisibilityKm': '', ' Mean VisibilityKm': '', ' Min VisibilitykM': '', ' Max Wind SpeedKm/h': '', ' Mean Wind SpeedKm/h': '', ' Max Gust SpeedKm/h': '', 'PrecipitationCm': '', ' CloudCover': '', ' Events': '', 'WindDirDegrees': ''}\n",
      "Skipping row due to error: invalid literal for int() with base 10: ''\n",
      "Row: {'PKT': '1996-12-22', 'Max TemperatureC': '', 'Mean TemperatureC': '', 'Min TemperatureC': '', 'Dew PointC': '', 'MeanDew PointC': '', 'Min DewpointC': '', 'Max Humidity': '', ' Mean Humidity': '', ' Min Humidity': '', ' Max Sea Level PressurehPa': '', ' Mean Sea Level PressurehPa': '', ' Min Sea Level PressurehPa': '', ' Max VisibilityKm': '', ' Mean VisibilityKm': '', ' Min VisibilitykM': '', ' Max Wind SpeedKm/h': '', ' Mean Wind SpeedKm/h': '', ' Max Gust SpeedKm/h': '', 'PrecipitationCm': '', ' CloudCover': '', ' Events': '', 'WindDirDegrees': ''}\n",
      "Skipping row due to error: invalid literal for int() with base 10: ''\n",
      "Row: {'PKT': '1996-12-23', 'Max TemperatureC': '', 'Mean TemperatureC': '', 'Min TemperatureC': '', 'Dew PointC': '', 'MeanDew PointC': '', 'Min DewpointC': '', 'Max Humidity': '', ' Mean Humidity': '', ' Min Humidity': '', ' Max Sea Level PressurehPa': '', ' Mean Sea Level PressurehPa': '', ' Min Sea Level PressurehPa': '', ' Max VisibilityKm': '', ' Mean VisibilityKm': '', ' Min VisibilitykM': '', ' Max Wind SpeedKm/h': '', ' Mean Wind SpeedKm/h': '', ' Max Gust SpeedKm/h': '', 'PrecipitationCm': '0.00', ' CloudCover': '', ' Events': '', 'WindDirDegrees': '-1'}\n",
      "Skipping row due to error: invalid literal for int() with base 10: ''\n",
      "Row: {'PKT': '1996-12-24', 'Max TemperatureC': '22', 'Mean TemperatureC': '13', 'Min TemperatureC': '4', 'Dew PointC': '8', 'MeanDew PointC': '3', 'Min DewpointC': '-2', 'Max Humidity': '81', ' Mean Humidity': '57', ' Min Humidity': '21', ' Max Sea Level PressurehPa': '1019', ' Mean Sea Level PressurehPa': '1017', ' Min Sea Level PressurehPa': '1016', ' Max VisibilityKm': '7', ' Mean VisibilityKm': '4', ' Min VisibilitykM': '1', ' Max Wind SpeedKm/h': '13', ' Mean Wind SpeedKm/h': '2', ' Max Gust SpeedKm/h': '', 'PrecipitationCm': '0.00', ' CloudCover': '1', ' Events': '', 'WindDirDegrees': '280'}\n",
      "Skipping row due to error: 'Mean Humidity'\n",
      "Row: {'PKT': '1996-12-25', 'Max TemperatureC': '20', 'Mean TemperatureC': '12', 'Min TemperatureC': '5', 'Dew PointC': '9', 'MeanDew PointC': '5', 'Min DewpointC': '1', 'Max Humidity': '87', ' Mean Humidity': '65', ' Min Humidity': '37', ' Max Sea Level PressurehPa': '1020', ' Mean Sea Level PressurehPa': '1018', ' Min Sea Level PressurehPa': '1016', ' Max VisibilityKm': '8', ' Mean VisibilityKm': '4', ' Min VisibilitykM': '1', ' Max Wind SpeedKm/h': '13', ' Mean Wind SpeedKm/h': '3', ' Max Gust SpeedKm/h': '', 'PrecipitationCm': '0.00', ' CloudCover': '3', ' Events': '', 'WindDirDegrees': '127'}\n",
      "Skipping row due to error: 'Mean Humidity'\n",
      "Row: {'PKT': '1996-12-26', 'Max TemperatureC': '21', 'Mean TemperatureC': '14', 'Min TemperatureC': '9', 'Dew PointC': '10', 'MeanDew PointC': '6', 'Min DewpointC': '2', 'Max Humidity': '82', ' Mean Humidity': '63', ' Min Humidity': '34', ' Max Sea Level PressurehPa': '1021', ' Mean Sea Level PressurehPa': '1019', ' Min Sea Level PressurehPa': '1017', ' Max VisibilityKm': '7', ' Mean VisibilityKm': '3', ' Min VisibilitykM': '1', ' Max Wind SpeedKm/h': '16', ' Mean Wind SpeedKm/h': '8', ' Max Gust SpeedKm/h': '', 'PrecipitationCm': '0.00', ' CloudCover': '3', ' Events': '', 'WindDirDegrees': '321'}\n",
      "Skipping row due to error: 'Mean Humidity'\n",
      "Row: {'PKT': '1996-12-27', 'Max TemperatureC': '22', 'Mean TemperatureC': '14', 'Min TemperatureC': '8', 'Dew PointC': '7', 'MeanDew PointC': '4', 'Min DewpointC': '-6', 'Max Humidity': '87', ' Mean Humidity': '54', ' Min Humidity': '22', ' Max Sea Level PressurehPa': '1021', ' Mean Sea Level PressurehPa': '1019', ' Min Sea Level PressurehPa': '1017', ' Max VisibilityKm': '7', ' Mean VisibilityKm': '4', ' Min VisibilitykM': '3', ' Max Wind SpeedKm/h': '13', ' Mean Wind SpeedKm/h': '5', ' Max Gust SpeedKm/h': '', 'PrecipitationCm': '0.00', ' CloudCover': '0', ' Events': '', 'WindDirDegrees': '287'}\n",
      "Skipping row due to error: 'Mean Humidity'\n",
      "Row: {'PKT': '1996-12-28', 'Max TemperatureC': '24', 'Mean TemperatureC': '16', 'Min TemperatureC': '7', 'Dew PointC': '7', 'MeanDew PointC': '4', 'Min DewpointC': '-2', 'Max Humidity': '76', ' Mean Humidity': '57', ' Min Humidity': '19', ' Max Sea Level PressurehPa': '1019', ' Mean Sea Level PressurehPa': '1017', ' Min Sea Level PressurehPa': '1016', ' Max VisibilityKm': '6', ' Mean VisibilityKm': '4', ' Min VisibilitykM': '3', ' Max Wind SpeedKm/h': '16', ' Mean Wind SpeedKm/h': '6', ' Max Gust SpeedKm/h': '', 'PrecipitationCm': '0.00', ' CloudCover': '0', ' Events': '', 'WindDirDegrees': '283'}\n",
      "Skipping row due to error: 'Mean Humidity'\n",
      "Row: {'PKT': '1996-12-29', 'Max TemperatureC': '24', 'Mean TemperatureC': '16', 'Min TemperatureC': '7', 'Dew PointC': '8', 'MeanDew PointC': '5', 'Min DewpointC': '2', 'Max Humidity': '87', ' Mean Humidity': '61', ' Min Humidity': '27', ' Max Sea Level PressurehPa': '1018', ' Mean Sea Level PressurehPa': '1017', ' Min Sea Level PressurehPa': '1016', ' Max VisibilityKm': '8', ' Mean VisibilityKm': '5', ' Min VisibilitykM': '3', ' Max Wind SpeedKm/h': '13', ' Mean Wind SpeedKm/h': '3', ' Max Gust SpeedKm/h': '', 'PrecipitationCm': '0.00', ' CloudCover': '0', ' Events': '', 'WindDirDegrees': '270'}\n",
      "Skipping row due to error: 'Mean Humidity'\n",
      "Row: {'PKT': '1996-12-30', 'Max TemperatureC': '23', 'Mean TemperatureC': '13', 'Min TemperatureC': '4', 'Dew PointC': '11', 'MeanDew PointC': '6', 'Min DewpointC': '1', 'Max Humidity': '82', ' Mean Humidity': '63', ' Min Humidity': '31', ' Max Sea Level PressurehPa': '1020', ' Mean Sea Level PressurehPa': '1018', ' Min Sea Level PressurehPa': '1017', ' Max VisibilityKm': '5', ' Mean VisibilityKm': '3', ' Min VisibilitykM': '1', ' Max Wind SpeedKm/h': '13', ' Mean Wind SpeedKm/h': '2', ' Max Gust SpeedKm/h': '', 'PrecipitationCm': '0.00', ' CloudCover': '0', ' Events': '', 'WindDirDegrees': '297'}\n",
      "Skipping row due to error: 'Mean Humidity'\n",
      "Row: {'PKT': '1996-12-31', 'Max TemperatureC': '23', 'Mean TemperatureC': '14', 'Min TemperatureC': '5', 'Dew PointC': '10', 'MeanDew PointC': '7', 'Min DewpointC': '3', 'Max Humidity': '93', ' Mean Humidity': '62', ' Min Humidity': '38', ' Max Sea Level PressurehPa': '1022', ' Mean Sea Level PressurehPa': '1020', ' Min Sea Level PressurehPa': '1019', ' Max VisibilityKm': '6', ' Mean VisibilityKm': '3', ' Min VisibilitykM': '0', ' Max Wind SpeedKm/h': '10', ' Mean Wind SpeedKm/h': '0', ' Max Gust SpeedKm/h': '', 'PrecipitationCm': '0.00', ' CloudCover': '0', ' Events': 'Fog', 'WindDirDegrees': '180'}\n",
      "Skipping row due to error: 'Mean Humidity'\n",
      "Row: {'PKT': '<!-- 0.134:0 -->', 'Max TemperatureC': None, 'Mean TemperatureC': None, 'Min TemperatureC': None, 'Dew PointC': None, 'MeanDew PointC': None, 'Min DewpointC': None, 'Max Humidity': None, ' Mean Humidity': None, ' Min Humidity': None, ' Max Sea Level PressurehPa': None, ' Mean Sea Level PressurehPa': None, ' Min Sea Level PressurehPa': None, ' Max VisibilityKm': None, ' Mean VisibilityKm': None, ' Min VisibilitykM': None, ' Max Wind SpeedKm/h': None, ' Mean Wind SpeedKm/h': None, ' Max Gust SpeedKm/h': None, 'PrecipitationCm': None, ' CloudCover': None, ' Events': None, 'WindDirDegrees': None}\n",
      "Skipping row due to error: time data '<!-- 0.134:0 -->' does not match format '%Y-%m-%d'\n"
     ]
    }
   ],
   "source": [
    "a = parse_txt_file(\"file1.txt\")"
   ]
  },
  {
   "cell_type": "code",
   "execution_count": 57,
   "id": "044e69ba-b0f6-4bb3-9536-7953ff2b0dad",
   "metadata": {},
   "outputs": [
    {
     "name": "stdout",
     "output_type": "stream",
     "text": [
      "[]\n"
     ]
    }
   ],
   "source": [
    "print(a)"
   ]
  },
  {
   "cell_type": "code",
   "execution_count": 66,
   "id": "e023c6d8-8377-40f0-822f-a0188fc42c07",
   "metadata": {},
   "outputs": [],
   "source": [
    "from datetime import datetime\n",
    "import csv\n",
    "from pathlib import Path\n",
    "\n",
    "def parse_weather_folder(folder_path):\n",
    "    data = []\n",
    "    folder = Path(folder_path)\n",
    "\n",
    "    if not folder.exists() or not folder.is_dir():\n",
    "        print(f\"Error: '{folder_path}' is not a valid directory.\")\n",
    "        return data\n",
    "\n",
    "    txt_files = folder.glob(\"*.txt\")\n",
    "\n",
    "    for file_path in txt_files:\n",
    "        try:\n",
    "            with file_path.open(mode='r', encoding='utf-8') as f:\n",
    "                reader = csv.DictReader(f)\n",
    "                for row in reader:\n",
    "                    try:\n",
    "                        # Adjust the date key if needed (e.g., \"PKT\" or \"Date\")\n",
    "                        date = datetime.strptime(row[\"PKT\"].strip(), \"%Y-%m-%d\")\n",
    "                        max_temp = int(row[\"Max TemperatureC\"])\n",
    "                        min_temp = int(row[\"Min TemperatureC\"])\n",
    "                        humidity = int(row[\"Mean Humidity\"])\n",
    "                        data.append((date, max_temp, min_temp, humidity))\n",
    "                    except (KeyError, ValueError) as e:\n",
    "                        continue  # Skip rows with invalid/missing data\n",
    "        except Exception as e:\n",
    "            print(f\"Could not read file {file_path}: {e}\")\n",
    "            continue\n",
    "    return data"
   ]
  },
  {
   "cell_type": "code",
   "execution_count": 69,
   "id": "aa7d2ff8-fee3-4546-81ce-941dc4a442c7",
   "metadata": {},
   "outputs": [
    {
     "name": "stdout",
     "output_type": "stream",
     "text": [
      "Error: 'Home/Downloads/Revoech_Training/Weatherman_Problems/Lahore_weather' is not a valid directory.\n",
      "Error: 'Home/Downloads/Revoech_Training/Weatherman_Problems/Murree_weather' is not a valid directory.\n",
      "Error: 'Home/Downloads/Revoech_Training/Weatherman_Problems/Dubai_weather' is not a valid directory.\n"
     ]
    }
   ],
   "source": [
    "from pathlib import Path\n",
    "\n",
    "Lahore_weather = Path(\"/Home/Downloads/Revoech_Training/Weatherman_Problems/Lahore_weather\")\n",
    "Murree_weather = Path(\"/Home/Downloads/Revoech_Training/Weatherman_Problems/Murree_weather\")\n",
    "Dubai_weather  = Path(\"/Home/Downloads/Revoech_Training/Weatherman_Problems/Dubai_weather\")\n",
    "\n",
    "lahore_data = parse_weather_folder(Lahore_weather)\n",
    "murree_data = parse_weather_folder(Murree_weather)\n",
    "dubai_data = parse_weather_folder(Dubai_weather)\n",
    "\n",
    "All_files = lahore_data + murree_data + dubai_data"
   ]
  },
  {
   "cell_type": "code",
   "execution_count": 70,
   "id": "3c23e8fe-48dd-419e-8060-25dfb406bc21",
   "metadata": {},
   "outputs": [
    {
     "name": "stdout",
     "output_type": "stream",
     "text": [
      "Usage: python weatherman.py [option] [date] [area] [path]\n"
     ]
    }
   ],
   "source": [
    "import csv\n",
    "import os\n",
    "import sys\n",
    "from datetime import datetime\n",
    "from glob import glob\n",
    "from statistics import mean\n",
    "from colorama import Fore, Style, init\n",
    "\n",
    "init(autoreset=True)  # for colored output\n",
    "\n",
    "def parse_txt_file(file_path):\n",
    "    data = []\n",
    "    with open(file_path, 'r', encoding='utf-8') as f:\n",
    "        reader = csv.DictReader(f)\n",
    "        print(\"Headers detected:\", reader.fieldnames)  # Show column headers\n",
    "        for row in reader:\n",
    "            print(\"Row:\", row)  # Debug each row\n",
    "            try:\n",
    "                # Adjust date field name if needed (e.g., \"PKT\", \"Date\", etc.)\n",
    "                date_str = row[\"PKT\"]\n",
    "                date = datetime.strptime(date_str.strip(), \"%Y-%m-%d\")\n",
    "                \n",
    "                max_temp = int(row[\"Max TemperatureC\"])\n",
    "                min_temp = int(row[\"Min TemperatureC\"])\n",
    "                humidity = int(row[\"Mean Humidity\"])\n",
    "                \n",
    "                data.append((date, max_temp, min_temp, humidity))\n",
    "            except (KeyError, ValueError) as e:\n",
    "                print(\"Skipping row due to error:\", e)\n",
    "                continue\n",
    "    return data\n",
    "\n",
    "\n",
    "def collect_data(folder_path, area_name, year=None, month=None):\n",
    "    area_path = os.path.join(folder_path, f\"{area_name.lower()}_weather\")\n",
    "    if not os.path.exists(area_path):\n",
    "        print(f\"Folder not found: {area_path}\")\n",
    "        return []\n",
    "\n",
    "    files = glob(os.path.join(area_path, \"*.txt\"))\n",
    "    all_data = []\n",
    "\n",
    "    for file in files:\n",
    "        filename = os.path.basename(file)\n",
    "        if year and f\"{year}\" not in filename:\n",
    "            continue\n",
    "        if month and f\"{year}_{month:02d}\" not in filename:\n",
    "            continue\n",
    "        all_data.extend(parse_txt_file(file))\n",
    "    return all_data\n",
    "\n",
    "\n",
    "def yearly_report(year, area, base_path):\n",
    "    data = collect_data(base_path, area, year=year)\n",
    "    if not data:\n",
    "        print(\"No data found.\")\n",
    "        return\n",
    "\n",
    "    highest = max(data, key=lambda x: x[1])\n",
    "    lowest = min(data, key=lambda x: x[2])\n",
    "    most_humid = max(data, key=lambda x: x[3])\n",
    "\n",
    "    print(f\"\\n{area.title()} Weather Report - {year}\")\n",
    "    print(f\"Highest: {highest[1]}C on {highest[0].strftime('%B %d')}\")\n",
    "    print(f\"Lowest: {lowest[2]}C on {lowest[0].strftime('%B %d')}\")\n",
    "    print(f\"Humid: {most_humid[3]}% on {most_humid[0].strftime('%B %d')}\")\n",
    "\n",
    "\n",
    "def average_report(year, month, area, base_path):\n",
    "    data = collect_data(base_path, area, year=year, month=month)\n",
    "    if not data:\n",
    "        print(\"No data found.\")\n",
    "        return\n",
    "\n",
    "    avg_high = round(mean([d[1] for d in data]))\n",
    "    avg_low = round(mean([d[2] for d in data]))\n",
    "    avg_hum = round(mean([d[3] for d in data]))\n",
    "\n",
    "    print(f\"\\n{area.title()} Weather Averages - {year}/{month:02d}\")\n",
    "    print(f\"Highest Average: {avg_high}C\")\n",
    "    print(f\"Lowest Average: {avg_low}C\")\n",
    "    print(f\"Average Humidity: {avg_hum}%\")\n",
    "\n",
    "\n",
    "def bar_chart(year, month, area, base_path, bonus=False):\n",
    "    data = collect_data(base_path, area, year=year, month=month)\n",
    "    if not data:\n",
    "        print(\"No data found.\")\n",
    "        return\n",
    "\n",
    "    print(f\"\\n{area.title()} Weather Bar Chart - {datetime(year, month, 1).strftime('%B %Y')}\")\n",
    "    grouped = {}\n",
    "\n",
    "    for d in data:\n",
    "        day = d[0].day\n",
    "        if day not in grouped:\n",
    "            grouped[day] = []\n",
    "        grouped[day].append(d)\n",
    "\n",
    "    for day in sorted(grouped.keys()):\n",
    "        day_data = grouped[day][0]\n",
    "        high = day_data[1]\n",
    "        low = day_data[2]\n",
    "\n",
    "        high_bar = Fore.RED + \"+\" * high + Style.RESET_ALL\n",
    "        low_bar = Fore.BLUE + \"+\" * low + Style.RESET_ALL\n",
    "\n",
    "        if bonus:\n",
    "            print(f\"{day:02d} {low_bar} {low}C - {high}C\")\n",
    "        else:\n",
    "            print(f\"{day:02d} {high_bar} {high}C\")\n",
    "            print(f\"{day:02d} {low_bar} {low}C\")\n",
    "\n",
    "\n",
    "def main():\n",
    "    if len(sys.argv) < 5:\n",
    "        print(\"Usage: python weatherman.py [option] [date] [area] [path]\")\n",
    "        return\n",
    "\n",
    "    option = sys.argv[1]\n",
    "    date = sys.argv[2]\n",
    "    area = sys.argv[3]\n",
    "    path = sys.argv[4]\n",
    "\n",
    "    if option == \"-e\":\n",
    "        year = int(date)\n",
    "        yearly_report(year, area, path)\n",
    "\n",
    "    elif option == \"-a\":\n",
    "        year, month = map(int, date.split('/'))\n",
    "        average_report(year, month, area, path)\n",
    "\n",
    "    elif option == \"-c\":\n",
    "        year, month = map(int, date.split('/'))\n",
    "        bar_chart(year, month, area, path, bonus=False)\n",
    "\n",
    "    elif option == \"-b\":\n",
    "        year, month = map(int, date.split('/'))\n",
    "        bar_chart(year, month, area, path, bonus=True)\n",
    "\n",
    "\n",
    "if __name__ == \"__main__\":\n",
    "    main()\n"
   ]
  },
  {
   "cell_type": "code",
   "execution_count": null,
   "id": "6f4a9e29-6a02-4f28-be3a-d9d9a4fbfced",
   "metadata": {},
   "outputs": [],
   "source": []
  }
 ],
 "metadata": {
  "kernelspec": {
   "display_name": "Python 3 (ipykernel)",
   "language": "python",
   "name": "python3"
  },
  "language_info": {
   "codemirror_mode": {
    "name": "ipython",
    "version": 3
   },
   "file_extension": ".py",
   "mimetype": "text/x-python",
   "name": "python",
   "nbconvert_exporter": "python",
   "pygments_lexer": "ipython3",
   "version": "3.10.12"
  }
 },
 "nbformat": 4,
 "nbformat_minor": 5
}
